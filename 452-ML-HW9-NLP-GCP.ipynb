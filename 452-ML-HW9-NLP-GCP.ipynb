{
 "cells": [
  {
   "cell_type": "markdown",
   "metadata": {},
   "source": [
    "# 452 - Machine Learning - HW9 - Sentiment Analysis using Google Cloud Platform Natural Language API"
   ]
  },
  {
   "cell_type": "markdown",
   "metadata": {
    "toc": true
   },
   "source": [
    "<h1>Table of Contents<span class=\"tocSkip\"></span></h1>\n",
    "<div class=\"toc\"><ul class=\"toc-item\"><li><span><a href=\"#Reading-the-input-file\" data-toc-modified-id=\"Reading-the-input-file-1\"><span class=\"toc-item-num\">1&nbsp;&nbsp;</span>Reading the input file</a></span></li><li><span><a href=\"#Setting-up-the-environment-&amp;-importing-libraries\" data-toc-modified-id=\"Setting-up-the-environment-&amp;-importing-libraries-2\"><span class=\"toc-item-num\">2&nbsp;&nbsp;</span>Setting up the environment &amp; importing libraries</a></span></li><li><span><a href=\"#Analyzing-the-sentinment-of-one-record\" data-toc-modified-id=\"Analyzing-the-sentinment-of-one-record-3\"><span class=\"toc-item-num\">3&nbsp;&nbsp;</span>Analyzing the sentinment of one record</a></span></li><li><span><a href=\"#Analyzing-the-sentiment-on-entire-document\" data-toc-modified-id=\"Analyzing-the-sentiment-on-entire-document-4\"><span class=\"toc-item-num\">4&nbsp;&nbsp;</span>Analyzing the sentiment on entire document</a></span></li></ul></div>"
   ]
  },
  {
   "cell_type": "markdown",
   "metadata": {},
   "source": [
    "### Reading the input file"
   ]
  },
  {
   "cell_type": "code",
   "execution_count": 1,
   "metadata": {},
   "outputs": [
    {
     "data": {
      "text/plain": [
       "[['So there is no way for me to plug it in here in the US unless I go by a converter.',\n",
       "  '0'],\n",
       " ['Good case, Excellent value.', '1'],\n",
       " ['Great for the jawbone.', '1'],\n",
       " ['Tied to charger for conversations lasting more than 45 minutes.MAJOR PROBLEMS!!',\n",
       "  '0'],\n",
       " ['The mic is great.', '1'],\n",
       " ['I have to jiggle the plug to get it to line up right to get decent volume.',\n",
       "  '0'],\n",
       " ['If you have several dozen or several hundred contacts, then imagine the fun of sending each of them one by one.',\n",
       "  '0'],\n",
       " ['If you are Razr owner...you must have this!', '1'],\n",
       " ['Needless to say, I wasted my money.', '0'],\n",
       " ['What a waste of money and time!.', '0']]"
      ]
     },
     "execution_count": 1,
     "metadata": {},
     "output_type": "execute_result"
    }
   ],
   "source": [
    "# Opening and Reading the files into a list \n",
    "with open(\"amazon_reviews.txt\",\"r\") as text_file:\n",
    "    lines = text_file.read().split('\\n')\n",
    "# split by tab and remove corrupted data if any or lines which are not tab seperated\n",
    "lines = [line.split(\"\\t\") for line in lines if len(line.split(\"\\t\"))==2 and line.split(\"\\t\")[1]!='']\n",
    "lines[0:10]"
   ]
  },
  {
   "cell_type": "markdown",
   "metadata": {},
   "source": [
    "### Setting up the environment & importing libraries"
   ]
  },
  {
   "cell_type": "code",
   "execution_count": 14,
   "metadata": {},
   "outputs": [],
   "source": [
    "import os\n",
    "os.environ[\"GOOGLE_APPLICATION_CREDENTIALS\"]=\"/Users/pallavi/Downloads/My Project 69542-83e26d1de516.json\""
   ]
  },
  {
   "cell_type": "code",
   "execution_count": 15,
   "metadata": {},
   "outputs": [],
   "source": [
    "# Imports the Google Cloud client library\n",
    "from google.cloud import language\n",
    "from google.cloud.language import enums\n",
    "from google.cloud.language import types"
   ]
  },
  {
   "cell_type": "code",
   "execution_count": 16,
   "metadata": {},
   "outputs": [],
   "source": [
    "# Instantiates a client\n",
    "client = language.LanguageServiceClient()"
   ]
  },
  {
   "cell_type": "markdown",
   "metadata": {},
   "source": [
    "### Analyzing the sentinment of one record"
   ]
  },
  {
   "cell_type": "code",
   "execution_count": 19,
   "metadata": {},
   "outputs": [
    {
     "name": "stdout",
     "output_type": "stream",
     "text": [
      "Text: Good case, Excellent value.\n",
      "Sentiment: 0.8999999761581421, 0.8999999761581421\n"
     ]
    }
   ],
   "source": [
    "text = lines[1][0]\n",
    "document = types.Document(\n",
    "    content=text,\n",
    "    type=enums.Document.Type.PLAIN_TEXT)\n",
    "\n",
    "# Detects the sentiment of the text\n",
    "sentiment = client.analyze_sentiment(document=document).document_sentiment\n",
    "\n",
    "print('Text: {}'.format(text))\n",
    "print('Sentiment: {}, {}'.format(sentiment.score, sentiment.magnitude))"
   ]
  },
  {
   "cell_type": "code",
   "execution_count": 20,
   "metadata": {},
   "outputs": [
    {
     "name": "stdout",
     "output_type": "stream",
     "text": [
      "Text: Tied to charger for conversations lasting more than 45 minutes.MAJOR PROBLEMS!!\n",
      "Sentiment: -0.8999999761581421, 0.8999999761581421\n"
     ]
    }
   ],
   "source": [
    "text = lines[3][0]\n",
    "document = types.Document(\n",
    "    content=text,\n",
    "    type=enums.Document.Type.PLAIN_TEXT)\n",
    "\n",
    "# Detects the sentiment of the text\n",
    "sentiment = client.analyze_sentiment(document=document).document_sentiment\n",
    "\n",
    "print('Text: {}'.format(text))\n",
    "print('Sentiment: {}, {}'.format(sentiment.score, sentiment.magnitude))"
   ]
  },
  {
   "cell_type": "markdown",
   "metadata": {},
   "source": [
    "### Analyzing the sentiment on entire document"
   ]
  },
  {
   "cell_type": "code",
   "execution_count": 22,
   "metadata": {},
   "outputs": [
    {
     "name": "stdout",
     "output_type": "stream",
     "text": [
      "Entire Document\n",
      "Sentiment: -0.6000000238418579, 1.7999999523162842\n"
     ]
    }
   ],
   "source": [
    "# Considering only first 50 records due to constraints\n",
    "new_lines = [item[0] for item in lines][0:50]\n",
    "whole_doc = ', '.join(map(str, new_lines))\n",
    "document = types.Document(\n",
    "    content=whole_doc,\n",
    "    type=enums.Document.Type.PLAIN_TEXT)\n",
    "\n",
    "# Detects the sentiment of the text\n",
    "sentiment = client.analyze_sentiment(document=document).document_sentiment\n",
    "\n",
    "print('Entire Document')\n",
    "print('Sentiment: {}, {}'.format(sentiment.score, sentiment.magnitude))"
   ]
  },
  {
   "cell_type": "code",
   "execution_count": null,
   "metadata": {},
   "outputs": [],
   "source": []
  }
 ],
 "metadata": {
  "kernelspec": {
   "display_name": "Python 3",
   "language": "python",
   "name": "python3"
  },
  "language_info": {
   "codemirror_mode": {
    "name": "ipython",
    "version": 3
   },
   "file_extension": ".py",
   "mimetype": "text/x-python",
   "name": "python",
   "nbconvert_exporter": "python",
   "pygments_lexer": "ipython3",
   "version": "3.6.4"
  },
  "toc": {
   "nav_menu": {},
   "number_sections": true,
   "sideBar": true,
   "skip_h1_title": true,
   "title_cell": "Table of Contents",
   "title_sidebar": "Contents",
   "toc_cell": true,
   "toc_position": {
    "height": "calc(100% - 180px)",
    "left": "10px",
    "top": "150px",
    "width": "165px"
   },
   "toc_section_display": true,
   "toc_window_display": true
  }
 },
 "nbformat": 4,
 "nbformat_minor": 2
}
